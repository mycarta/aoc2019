{
 "cells": [
  {
   "cell_type": "markdown",
   "metadata": {},
   "source": [
    "### Day 4"
   ]
  },
  {
   "cell_type": "markdown",
   "metadata": {},
   "source": [
    "Description of the puzzle [here](https://adventofcode.com/2019/day/4)"
   ]
  },
  {
   "cell_type": "markdown",
   "metadata": {},
   "source": [
    "### Part 1"
   ]
  },
  {
   "cell_type": "markdown",
   "metadata": {},
   "source": [
    "#### Functions"
   ]
  },
  {
   "cell_type": "code",
   "execution_count": 1,
   "metadata": {},
   "outputs": [],
   "source": [
    "def test_increasing(n):\n",
    "    s = str(n)\n",
    "    digits = [int(x) for x in s]\n",
    "    return all(x<=y for x,y in zip(digits[:], digits[1:]))"
   ]
  },
  {
   "cell_type": "code",
   "execution_count": 2,
   "metadata": {},
   "outputs": [
    {
     "data": {
      "text/plain": [
       "True"
      ]
     },
     "execution_count": 2,
     "metadata": {},
     "output_type": "execute_result"
    }
   ],
   "source": [
    "test_increasing(123789)"
   ]
  },
  {
   "cell_type": "code",
   "execution_count": 3,
   "metadata": {},
   "outputs": [],
   "source": [
    "def test_doubles(n):\n",
    "    s = str(n)\n",
    "    digits = [int(x) for x in s]\n",
    "    return any(x==y for x,y in zip(digits[:], digits[1:]))"
   ]
  },
  {
   "cell_type": "code",
   "execution_count": 4,
   "metadata": {},
   "outputs": [
    {
     "data": {
      "text/plain": [
       "True"
      ]
     },
     "execution_count": 4,
     "metadata": {},
     "output_type": "execute_result"
    }
   ],
   "source": [
    "test_doubles(123364)"
   ]
  },
  {
   "cell_type": "markdown",
   "metadata": {},
   "source": [
    "#### Part 1 test"
   ]
  },
  {
   "cell_type": "code",
   "execution_count": 5,
   "metadata": {},
   "outputs": [
    {
     "data": {
      "text/plain": [
       "True"
      ]
     },
     "execution_count": 5,
     "metadata": {},
     "output_type": "execute_result"
    }
   ],
   "source": [
    "test_increasing(111111) and test_doubles(111111)"
   ]
  },
  {
   "cell_type": "code",
   "execution_count": 6,
   "metadata": {},
   "outputs": [
    {
     "data": {
      "text/plain": [
       "False"
      ]
     },
     "execution_count": 6,
     "metadata": {},
     "output_type": "execute_result"
    }
   ],
   "source": [
    "test_increasing(223450) and test_doubles(223450)"
   ]
  },
  {
   "cell_type": "code",
   "execution_count": 7,
   "metadata": {},
   "outputs": [
    {
     "data": {
      "text/plain": [
       "False"
      ]
     },
     "execution_count": 7,
     "metadata": {},
     "output_type": "execute_result"
    }
   ],
   "source": [
    "test_increasing(123789) and test_doubles(123789)"
   ]
  },
  {
   "cell_type": "markdown",
   "metadata": {},
   "source": [
    "#### Part 1 solution"
   ]
  },
  {
   "cell_type": "code",
   "execution_count": 8,
   "metadata": {},
   "outputs": [],
   "source": [
    "nums = range(145852,616942)"
   ]
  },
  {
   "cell_type": "code",
   "execution_count": 9,
   "metadata": {},
   "outputs": [],
   "source": [
    "ls = [n for n in nums if (test_increasing(n) and test_doubles(n))]      "
   ]
  },
  {
   "cell_type": "code",
   "execution_count": 10,
   "metadata": {},
   "outputs": [
    {
     "data": {
      "text/plain": [
       "1767"
      ]
     },
     "execution_count": 10,
     "metadata": {},
     "output_type": "execute_result"
    }
   ],
   "source": [
    "len(ls)"
   ]
  },
  {
   "cell_type": "markdown",
   "metadata": {},
   "source": [
    "### Part 2"
   ]
  },
  {
   "cell_type": "markdown",
   "metadata": {},
   "source": [
    "This now is a fail in part 2, where the two adjacent matching digits are not to be part of a larger group of matching digits."
   ]
  },
  {
   "cell_type": "code",
   "execution_count": 11,
   "metadata": {},
   "outputs": [
    {
     "data": {
      "text/plain": [
       "True"
      ]
     },
     "execution_count": 11,
     "metadata": {},
     "output_type": "execute_result"
    }
   ],
   "source": [
    "test_doubles(123444)"
   ]
  },
  {
   "cell_type": "markdown",
   "metadata": {},
   "source": [
    "#### Part 2 dead end"
   ]
  },
  {
   "cell_type": "code",
   "execution_count": 12,
   "metadata": {},
   "outputs": [],
   "source": [
    "def test_one_double(n):\n",
    "    '''This function:\n",
    "    - takes input numbers in a list one by one\n",
    "    - converts number to a list of integers\n",
    "    - calculates the differences between consecutive digits\n",
    "        doubles will give a single zero\n",
    "        triples and more consecutive equal digits will give sequences of zeros\n",
    "        any other combination will give differences between 1 and 9\n",
    "    - aggregate differences into a single string\n",
    "    - return the number if this string does not contain consecutive zeros\n",
    "    '''\n",
    "    s = str(n)\n",
    "    digits = [int(x) for x in s]\n",
    "    t = ''.join(str(dgt) for dgt in [x-y for x,y in zip(digits[1:], digits[:])])\n",
    "    if '00' not in str(t):\n",
    "        return(n)     "
   ]
  },
  {
   "cell_type": "code",
   "execution_count": 13,
   "metadata": {},
   "outputs": [],
   "source": [
    "ls2 = [n for n in nums if (test_increasing(n) and test_one_double(n))]      "
   ]
  },
  {
   "cell_type": "code",
   "execution_count": 14,
   "metadata": {},
   "outputs": [
    {
     "data": {
      "text/plain": [
       "846"
      ]
     },
     "execution_count": 14,
     "metadata": {},
     "output_type": "execute_result"
    }
   ],
   "source": [
    "len(ls2)"
   ]
  },
  {
   "cell_type": "markdown",
   "metadata": {},
   "source": [
    "**That's not the right answer**"
   ]
  },
  {
   "cell_type": "code",
   "execution_count": 15,
   "metadata": {},
   "outputs": [
    {
     "name": "stdout",
     "output_type": "stream",
     "text": [
      "112233\n"
     ]
    }
   ],
   "source": [
    "numbers = [ 112233, 123444, 111122]\n",
    "\n",
    "for n in numbers:\n",
    "    s = str(n)\n",
    "    digits = [int(x) for x in s]\n",
    "    t = ''.join(str(dgt) for dgt in [x-y for x,y in zip(digits[1:], digits[:])])\n",
    "    if '00' not in str(t):\n",
    "        print(n)       "
   ]
  },
  {
   "cell_type": "markdown",
   "metadata": {},
   "source": [
    "The reason for that is that my function does not account for that last case.\n",
    "Perhaps a different aproach is needed like instead of not having '00', having '010'"
   ]
  },
  {
   "cell_type": "code",
   "execution_count": 16,
   "metadata": {},
   "outputs": [
    {
     "name": "stdout",
     "output_type": "stream",
     "text": [
      "112233\n",
      "111122\n"
     ]
    }
   ],
   "source": [
    "numbers = [ 112233, 123444, 111122, 133331]\n",
    "\n",
    "for n in numbers:\n",
    "    s = str(n)\n",
    "    digits = [int(x) for x in s]\n",
    "    t = ''.join(str(dgt) for dgt in [x-y for x,y in zip(digits[1:], digits[:])])\n",
    "    if ('010'  in str(t)):\n",
    "        print(n)       "
   ]
  },
  {
   "cell_type": "code",
   "execution_count": 17,
   "metadata": {},
   "outputs": [],
   "source": [
    "def test_one_double(n):\n",
    "    '''This function:\n",
    "    - takes input numbers in a list one by one\n",
    "    - converts number to a list of integers\n",
    "    - calculates the differences between consecutive digits\n",
    "        doubles will give a single zero\n",
    "        triples and more consecutive equal digits will give sequences of zeros\n",
    "        any other combination will give differences between 1 and 9\n",
    "    - aggregate differences into a single string\n",
    "    - return the number if this string does not contain consecutive zeros\n",
    "    '''\n",
    "    s = str(n)\n",
    "    digits = [int(x) for x in s]\n",
    "    t = ''.join(str(dgt) for dgt in [x-y for x,y in zip(digits[1:], digits[:])])\n",
    "    if '010'  in str(t):\n",
    "        return(n)     "
   ]
  },
  {
   "cell_type": "code",
   "execution_count": 18,
   "metadata": {},
   "outputs": [],
   "source": [
    "ls3 = [n for n in nums if (test_increasing(n) and test_one_double(n))]   "
   ]
  },
  {
   "cell_type": "code",
   "execution_count": 19,
   "metadata": {},
   "outputs": [
    {
     "data": {
      "text/plain": [
       "241"
      ]
     },
     "execution_count": 19,
     "metadata": {},
     "output_type": "execute_result"
    }
   ],
   "source": [
    "len(ls3)"
   ]
  },
  {
   "cell_type": "markdown",
   "metadata": {},
   "source": [
    "**And that's not the right answer either**"
   ]
  },
  {
   "cell_type": "markdown",
   "metadata": {},
   "source": [
    "#### Another working solution"
   ]
  },
  {
   "cell_type": "markdown",
   "metadata": {},
   "source": [
    "Cycle through the possible combinations but then for each one, rather than looking at the patterns in the differences between digits and eliminate double zeros, let's try to iterate through three digits at a time and  if all three are equal eliminate the combination"
   ]
  },
  {
   "cell_type": "code",
   "execution_count": 20,
   "metadata": {},
   "outputs": [],
   "source": [
    "numbers = [112233, 123444, 111122, 133331]"
   ]
  },
  {
   "cell_type": "code",
   "execution_count": 21,
   "metadata": {},
   "outputs": [],
   "source": [
    "ls=[]\n",
    "\n",
    "for n in numbers:\n",
    "    s=str(n)\n",
    "    prev_2 = s[0]             # assign first two elements to variables\n",
    "    prev = s[1]\n",
    "    is_valid = True           # assume combination is valid\n",
    "    for char in s[2:]:        # look at third element\n",
    "        if prev_2 == prev and prev == char:\n",
    "            is_valid = False  # this combination is invalid and\n",
    "            break             # and break the inner if loop\n",
    "        prev_2 = prev         # move along by one element\n",
    "        prev = char\n",
    "    if is_valid:              # otherwise the combination is valid\n",
    "        ls.append(n)"
   ]
  },
  {
   "cell_type": "code",
   "execution_count": 22,
   "metadata": {},
   "outputs": [
    {
     "data": {
      "text/plain": [
       "[112233]"
      ]
     },
     "execution_count": 22,
     "metadata": {},
     "output_type": "execute_result"
    }
   ],
   "source": [
    "ls"
   ]
  },
  {
   "cell_type": "markdown",
   "metadata": {},
   "source": [
    "Now this is too restrictive because as soon as it finds a triple it eliminates a combination.\n",
    "\n",
    "So instead of `is_valid = False` it needs a way to check if there's another double made of a different number"
   ]
  },
  {
   "cell_type": "code",
   "execution_count": null,
   "metadata": {},
   "outputs": [],
   "source": []
  }
 ],
 "metadata": {
  "kernelspec": {
   "display_name": "py36",
   "language": "python",
   "name": "conda-env-py36-py"
  },
  "language_info": {
   "codemirror_mode": {
    "name": "ipython",
    "version": 3
   },
   "file_extension": ".py",
   "mimetype": "text/x-python",
   "name": "python",
   "nbconvert_exporter": "python",
   "pygments_lexer": "ipython3",
   "version": "3.6.8"
  }
 },
 "nbformat": 4,
 "nbformat_minor": 2
}
