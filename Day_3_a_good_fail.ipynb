{
 "cells": [
  {
   "cell_type": "markdown",
   "metadata": {},
   "source": [
    "### Preliminaries"
   ]
  },
  {
   "cell_type": "markdown",
   "metadata": {},
   "source": [
    "A good example of NOT having read the brief carefully enough.\n",
    "\n",
    "This was developed under the incorrect assumption we were tasked with finding intersections between wires only at node points in the pats (i.e. after each disccrete indevidual "
   ]
  },
  {
   "cell_type": "markdown",
   "metadata": {},
   "source": [
    "### Preliminaries"
   ]
  },
  {
   "cell_type": "code",
   "execution_count": null,
   "metadata": {},
   "outputs": [],
   "source": [
    "import numpy as np"
   ]
  },
  {
   "cell_type": "code",
   "execution_count": null,
   "metadata": {},
   "outputs": [],
   "source": [
    "with open('day_3_input.txt', 'r') as f:\n",
    "    data=[line.split(',') for line in f.readlines()]"
   ]
  },
  {
   "cell_type": "markdown",
   "metadata": {},
   "source": [
    "### Part 1"
   ]
  },
  {
   "cell_type": "markdown",
   "metadata": {},
   "source": [
    "#### Part 1 test"
   ]
  },
  {
   "cell_type": "code",
   "execution_count": null,
   "metadata": {},
   "outputs": [],
   "source": [
    "t1 = ['R8','U5','L5','D3']"
   ]
  },
  {
   "cell_type": "code",
   "execution_count": null,
   "metadata": {},
   "outputs": [],
   "source": [
    "t2 = ['U7','R6','D4','L4']"
   ]
  },
  {
   "cell_type": "code",
   "execution_count": null,
   "metadata": {},
   "outputs": [],
   "source": [
    "t1_dx = np.zeros(len(t1), dtype=int)\n",
    "t1_dy = np.zeros(len(t1), dtype=int)\n",
    "t2_dx = np.zeros(len(t2), dtype=int)\n",
    "t2_dy = np.zeros(len(t2), dtype=int)"
   ]
  },
  {
   "cell_type": "code",
   "execution_count": null,
   "metadata": {},
   "outputs": [],
   "source": [
    "for i, el in enumerate(t1):\n",
    "    if el[0] == 'R':\n",
    "        t1_dx[i] += (int(el[1::])) \n",
    "    elif el[0] == 'L':\n",
    "        t1_dx[i] -=  (int(el[1::])) \n",
    "        \n",
    "    if el[0] == 'U':\n",
    "        t1_dy[i] += (int(el[1::])) \n",
    "    elif el[0] == 'D':\n",
    "        t1_dy[i] -= (int(el[1::]))    "
   ]
  },
  {
   "cell_type": "code",
   "execution_count": null,
   "metadata": {},
   "outputs": [],
   "source": [
    "print (t1_dx)\n",
    "print (t1_dy)"
   ]
  },
  {
   "cell_type": "code",
   "execution_count": null,
   "metadata": {},
   "outputs": [],
   "source": [
    "for i, el in enumerate(t2):\n",
    "    if el[0] == 'R':\n",
    "        t2_dx[i] += (int(el[1::])) \n",
    "    elif el[0] == 'L':\n",
    "        t2_dx[i] -=  (int(el[1::])) \n",
    "        \n",
    "    if el[0] == 'U':\n",
    "        t2_dy[i] += (int(el[1::])) \n",
    "    elif el[0] == 'D':\n",
    "        t2_dy[i] -= (int(el[1::]))    "
   ]
  },
  {
   "cell_type": "code",
   "execution_count": null,
   "metadata": {},
   "outputs": [],
   "source": [
    "print (t2_dx)\n",
    "print (t2_dy)"
   ]
  },
  {
   "cell_type": "code",
   "execution_count": null,
   "metadata": {},
   "outputs": [],
   "source": [
    "moves_t1 = list(zip(t1_dx, t1_dy))\n",
    "moves_t2 = list(zip(t2_dx, t2_dy))"
   ]
  },
  {
   "cell_type": "code",
   "execution_count": null,
   "metadata": {},
   "outputs": [],
   "source": [
    "print(moves_t1)\n",
    "print(moves_t2)"
   ]
  },
  {
   "cell_type": "code",
   "execution_count": null,
   "metadata": {},
   "outputs": [],
   "source": [
    "# https://stackoverflow.com/a/16425408/1034648\n",
    "    \n",
    "def accumulate_tuples(iterable):\n",
    "    accum_a = accum_b = 0\n",
    "    for a, b in iterable:\n",
    "        accum_a += a\n",
    "        accum_b += b\n",
    "        yield accum_a, accum_b"
   ]
  },
  {
   "cell_type": "code",
   "execution_count": null,
   "metadata": {},
   "outputs": [],
   "source": [
    "coord_t1 = list(accumulate_tuples(moves_t1))\n",
    "coord_t2 = list(accumulate_tuples(moves_t2))\n",
    "\n",
    "coord_t1.insert(0, (0, 0))\n",
    "coord_t2.insert(0, (0, 0))"
   ]
  },
  {
   "cell_type": "code",
   "execution_count": null,
   "metadata": {},
   "outputs": [],
   "source": [
    "print(coord_t1)\n",
    "print(coord_t2)"
   ]
  },
  {
   "cell_type": "code",
   "execution_count": null,
   "metadata": {},
   "outputs": [],
   "source": []
  },
  {
   "cell_type": "code",
   "execution_count": null,
   "metadata": {},
   "outputs": [],
   "source": []
  },
  {
   "cell_type": "markdown",
   "metadata": {},
   "source": [
    "#### Part 1 solution"
   ]
  },
  {
   "cell_type": "raw",
   "metadata": {},
   "source": [
    "wire1 = data[0]\n",
    "wire2 = data[1]"
   ]
  },
  {
   "cell_type": "raw",
   "metadata": {},
   "source": [
    "Initialize vectors of moves and coordinates"
   ]
  },
  {
   "cell_type": "raw",
   "metadata": {},
   "source": [
    "wire1_dx = np.zeros(len(wire1), dtype=int)\n",
    "wire1_dy = np.zeros(len(wire1), dtype=int)\n",
    "wire2_dx = np.zeros(len(wire2), dtype=int)\n",
    "wire2_dy = np.zeros(len(wire2), dtype=int)"
   ]
  },
  {
   "cell_type": "raw",
   "metadata": {},
   "source": [
    "for i, el in enumerate(wire1):\n",
    "    if el[0] == 'R':\n",
    "        wire1_dx[i] += (int(el[1::])) \n",
    "    elif el[0] == 'L':\n",
    "        wire1_dx[i] -=  (int(el[1::])) \n",
    "        \n",
    "    elif el[0] == 'U':\n",
    "        wire1_dy[i] += (int(el[1::])) \n",
    "    elif el[0] == 'D':\n",
    "        wire1_dy[i] -= (int(el[1::]))        "
   ]
  },
  {
   "cell_type": "raw",
   "metadata": {},
   "source": [
    "print (wire1_dx[:10])\n",
    "print (wire1_dy[:10])"
   ]
  },
  {
   "cell_type": "raw",
   "metadata": {},
   "source": [
    "for i, el in enumerate(wire2):\n",
    "    if el[0] == 'R':\n",
    "        wire2_dx[i] += (int(el[1::])) \n",
    "    elif el[0] == 'L':\n",
    "        wire2_dx[i] -=  (int(el[1::])) \n",
    "        \n",
    "    elif el[0] == 'U':\n",
    "        wire2_dy[i] += (int(el[1::])) \n",
    "    elif el[0] == 'D':\n",
    "        wire2_dy[i] -= (int(el[1::]))            "
   ]
  },
  {
   "cell_type": "raw",
   "metadata": {},
   "source": [
    "print (wire2_dx[:10])\n",
    "print (wire2_dy[:10])"
   ]
  },
  {
   "cell_type": "raw",
   "metadata": {},
   "source": [
    "moves_wire1 = list(zip(wire1_dx, wire1_dy))\n",
    "moves_wire2 = list(zip(wire2_dx, wire2_dy))"
   ]
  },
  {
   "cell_type": "raw",
   "metadata": {},
   "source": [
    "# https://stackoverflow.com/a/16425408/1034648\n",
    "    \n",
    "def accumulate_tuples(iterable):\n",
    "    accum_a = accum_b = 0\n",
    "    for a, b in iterable:\n",
    "        accum_a += a\n",
    "        accum_b += b\n",
    "        yield accum_a, accum_b"
   ]
  },
  {
   "cell_type": "raw",
   "metadata": {},
   "source": [
    "coord_wire1 = list(accumulate_tuples(moves_wire1))\n",
    "coord_wire2 = list(accumulate_tuples(moves_wire2))\n",
    "\n",
    "coord_wire1.insert(0, (0, 0))\n",
    "coord_wire2.insert(0, (0, 0))"
   ]
  },
  {
   "cell_type": "raw",
   "metadata": {},
   "source": [
    "coord_wire1[:20]"
   ]
  },
  {
   "cell_type": "raw",
   "metadata": {},
   "source": [
    "coord_wire2[:20]"
   ]
  },
  {
   "cell_type": "raw",
   "metadata": {},
   "source": [
    "[np.where(a == b) for a, b in zip (coord_wire1, coord_wire2)][:10]"
   ]
  }
 ],
 "metadata": {
  "kernelspec": {
   "display_name": "Python [conda env:py36]",
   "language": "python",
   "name": "conda-env-py36-py"
  },
  "language_info": {
   "codemirror_mode": {
    "name": "ipython",
    "version": 3
   },
   "file_extension": ".py",
   "mimetype": "text/x-python",
   "name": "python",
   "nbconvert_exporter": "python",
   "pygments_lexer": "ipython3",
   "version": "3.6.8"
  }
 },
 "nbformat": 4,
 "nbformat_minor": 2
}
