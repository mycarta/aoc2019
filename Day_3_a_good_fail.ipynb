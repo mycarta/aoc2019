{
 "cells": [
  {
   "cell_type": "markdown",
   "metadata": {},
   "source": [
    "### Day 3"
   ]
  },
  {
   "cell_type": "markdown",
   "metadata": {},
   "source": [
    "Description of the puzzle [here](https://adventofcode.com/2019/day/3)"
   ]
  },
  {
   "cell_type": "markdown",
   "metadata": {},
   "source": [
    "### This is a good fail !\n",
    "\n",
    "### AKA: a good example of having misinterpreted the brief, but still having learned something.\n",
    "\n",
    "This was developed under the incorrect assumption that the task was to find intersections between wires only at node points in the paths, not at intermediate points along the paths."
   ]
  },
  {
   "cell_type": "markdown",
   "metadata": {},
   "source": [
    "### Preliminaries"
   ]
  },
  {
   "cell_type": "code",
   "execution_count": 1,
   "metadata": {},
   "outputs": [],
   "source": [
    "import numpy as np"
   ]
  },
  {
   "cell_type": "code",
   "execution_count": 2,
   "metadata": {},
   "outputs": [],
   "source": [
    "with open('day_3_input.txt', 'r') as f:\n",
    "    data=[line.split(',') for line in f.readlines()]"
   ]
  },
  {
   "cell_type": "markdown",
   "metadata": {},
   "source": [
    "### Part 1"
   ]
  },
  {
   "cell_type": "markdown",
   "metadata": {},
   "source": [
    "#### Part 1 test"
   ]
  },
  {
   "cell_type": "markdown",
   "metadata": {},
   "source": [
    "Test case"
   ]
  },
  {
   "cell_type": "code",
   "execution_count": 3,
   "metadata": {},
   "outputs": [],
   "source": [
    "t1 = ['R8','U5','L5','D3']"
   ]
  },
  {
   "cell_type": "code",
   "execution_count": 4,
   "metadata": {},
   "outputs": [],
   "source": [
    "t2 = ['U7','R6','D4','L4']"
   ]
  },
  {
   "cell_type": "raw",
   "metadata": {},
   "source": [
    "Function to create vectors of wire moves"
   ]
  },
  {
   "cell_type": "code",
   "execution_count": 5,
   "metadata": {},
   "outputs": [],
   "source": [
    "def position_changes(t):\n",
    "    tdx = np.zeros(len(t), dtype=int)\n",
    "    tdy = np.zeros(len(t), dtype=int)\n",
    "    for i, el in enumerate(t):\n",
    "        if el[0] == 'R':\n",
    "            tdx[i] += (int(el[1::])) \n",
    "        elif el[0] == 'L':\n",
    "            tdx[i] -=  (int(el[1::]))        \n",
    "        if el[0] == 'U':\n",
    "            tdy[i] += (int(el[1::])) \n",
    "        elif el[0] == 'D':\n",
    "            tdy[i] -= (int(el[1::]))    \n",
    "    return list(zip(tdx, tdy))    "
   ]
  },
  {
   "cell_type": "code",
   "execution_count": 6,
   "metadata": {},
   "outputs": [],
   "source": [
    "moves_t1 = position_changes(t1)\n",
    "moves_t2 = position_changes(t2)"
   ]
  },
  {
   "cell_type": "code",
   "execution_count": 7,
   "metadata": {},
   "outputs": [
    {
     "name": "stdout",
     "output_type": "stream",
     "text": [
      "[(8, 0), (0, 5), (-5, 0), (0, -3)]\n",
      "[(0, 7), (6, 0), (0, -4), (-4, 0)]\n"
     ]
    }
   ],
   "source": [
    "print (moves_t1)\n",
    "print (moves_t2)"
   ]
  },
  {
   "cell_type": "raw",
   "metadata": {},
   "source": [
    "Function to create vectors of wire node coordinates \n",
    "From: https://stackoverflow.com/a/16425408/1034648"
   ]
  },
  {
   "cell_type": "code",
   "execution_count": 8,
   "metadata": {},
   "outputs": [],
   "source": [
    "def accumulate_tuples(iterable):\n",
    "    accum_a = accum_b = 0\n",
    "    for a, b in iterable:\n",
    "        accum_a += a\n",
    "        accum_b += b\n",
    "        yield accum_a, accum_b"
   ]
  },
  {
   "cell_type": "code",
   "execution_count": 9,
   "metadata": {},
   "outputs": [],
   "source": [
    "coord_t1 = list(accumulate_tuples(moves_t1))\n",
    "coord_t2 = list(accumulate_tuples(moves_t2))\n",
    "\n",
    "coord_t1.insert(0, (0, 0))\n",
    "coord_t2.insert(0, (0, 0))"
   ]
  },
  {
   "cell_type": "code",
   "execution_count": 10,
   "metadata": {},
   "outputs": [
    {
     "name": "stdout",
     "output_type": "stream",
     "text": [
      "[(0, 0), (8, 0), (8, 5), (3, 5), (3, 2)]\n",
      "[(0, 0), (0, 7), (6, 7), (6, 3), (2, 3)]\n"
     ]
    }
   ],
   "source": [
    "print(coord_t1)\n",
    "print(coord_t2)"
   ]
  },
  {
   "cell_type": "markdown",
   "metadata": {},
   "source": [
    "Find nodes at which wires intersect "
   ]
  },
  {
   "cell_type": "code",
   "execution_count": 11,
   "metadata": {},
   "outputs": [
    {
     "data": {
      "text/plain": [
       "[(array([0]),),\n",
       " (array([], dtype=int64),),\n",
       " (array([], dtype=int64),),\n",
       " (array([], dtype=int64),),\n",
       " (array([], dtype=int64),)]"
      ]
     },
     "execution_count": 11,
     "metadata": {},
     "output_type": "execute_result"
    }
   ],
   "source": [
    "[np.where(a == b) for a, b in zip (coord_t1, coord_t2)]"
   ]
  },
  {
   "cell_type": "markdown",
   "metadata": {},
   "source": [
    "#### That's a big fail above!!"
   ]
  }
 ],
 "metadata": {
  "kernelspec": {
   "display_name": "py36",
   "language": "python",
   "name": "conda-env-py36-py"
  },
  "language_info": {
   "codemirror_mode": {
    "name": "ipython",
    "version": 3
   },
   "file_extension": ".py",
   "mimetype": "text/x-python",
   "name": "python",
   "nbconvert_exporter": "python",
   "pygments_lexer": "ipython3",
   "version": "3.6.8"
  }
 },
 "nbformat": 4,
 "nbformat_minor": 2
}
