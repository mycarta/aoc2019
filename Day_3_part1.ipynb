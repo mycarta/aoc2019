{
 "cells": [
  {
   "cell_type": "markdown",
   "metadata": {},
   "source": [
    "### Day 3"
   ]
  },
  {
   "cell_type": "markdown",
   "metadata": {},
   "source": [
    "Description of the puzzle [here](https://adventofcode.com/2019/day/3)"
   ]
  },
  {
   "cell_type": "markdown",
   "metadata": {},
   "source": [
    "### Preliminaries"
   ]
  },
  {
   "cell_type": "code",
   "execution_count": 1,
   "metadata": {},
   "outputs": [],
   "source": [
    "import numpy as np"
   ]
  },
  {
   "cell_type": "code",
   "execution_count": 2,
   "metadata": {},
   "outputs": [],
   "source": [
    "with open('day_3_input.txt', 'r') as f:\n",
    "    data=[line.split(',') for line in f.readlines()]"
   ]
  },
  {
   "cell_type": "markdown",
   "metadata": {},
   "source": [
    "### Part 1"
   ]
  },
  {
   "cell_type": "markdown",
   "metadata": {},
   "source": [
    "#### Initial attempt"
   ]
  },
  {
   "cell_type": "markdown",
   "metadata": {},
   "source": [
    "**This is a good fail !**\n",
    "\n",
    "**AKA: a good example of having misinterpreted the brief, but still having learned something.**\n",
    "\n",
    "This was developed under the incorrect assumption that the task was to find intersections between wires only at node points in the paths, not at intermediate points along the paths."
   ]
  },
  {
   "cell_type": "markdown",
   "metadata": {},
   "source": [
    "Test case"
   ]
  },
  {
   "cell_type": "code",
   "execution_count": 3,
   "metadata": {},
   "outputs": [],
   "source": [
    "t1 = ['R8','U5','L5','D3']"
   ]
  },
  {
   "cell_type": "code",
   "execution_count": 4,
   "metadata": {},
   "outputs": [],
   "source": [
    "t2 = ['U7','R6','D4','L4']"
   ]
  },
  {
   "cell_type": "markdown",
   "metadata": {},
   "source": [
    "Function to create vectors of wire moves"
   ]
  },
  {
   "cell_type": "code",
   "execution_count": 5,
   "metadata": {},
   "outputs": [],
   "source": [
    "def position_changes(t):\n",
    "    tdx = np.zeros(len(t), dtype=int)\n",
    "    tdy = np.zeros(len(t), dtype=int)\n",
    "    for i, el in enumerate(t):\n",
    "        if el[0] == 'R':\n",
    "            tdx[i] += (int(el[1::])) \n",
    "        elif el[0] == 'L':\n",
    "            tdx[i] -=  (int(el[1::]))        \n",
    "        if el[0] == 'U':\n",
    "            tdy[i] += (int(el[1::])) \n",
    "        elif el[0] == 'D':\n",
    "            tdy[i] -= (int(el[1::]))    \n",
    "    return list(zip(tdx, tdy))    "
   ]
  },
  {
   "cell_type": "code",
   "execution_count": 6,
   "metadata": {},
   "outputs": [],
   "source": [
    "moves_t1 = position_changes(t1)\n",
    "moves_t2 = position_changes(t2)"
   ]
  },
  {
   "cell_type": "markdown",
   "metadata": {},
   "source": [
    "Function to create vectors of wire node coordinates \n",
    "\n",
    "From: https://stackoverflow.com/a/16425408/1034648"
   ]
  },
  {
   "cell_type": "code",
   "execution_count": 7,
   "metadata": {},
   "outputs": [],
   "source": [
    "def accumulate_tuples(iterable):\n",
    "    accum_a = accum_b = 0\n",
    "    for a, b in iterable:\n",
    "        accum_a += a\n",
    "        accum_b += b\n",
    "        yield accum_a, accum_b"
   ]
  },
  {
   "cell_type": "code",
   "execution_count": 8,
   "metadata": {},
   "outputs": [],
   "source": [
    "coord_t1 = list(accumulate_tuples(moves_t1))\n",
    "coord_t2 = list(accumulate_tuples(moves_t2))\n",
    "\n",
    "coord_t1.insert(0, (0, 0))\n",
    "coord_t2.insert(0, (0, 0))"
   ]
  },
  {
   "cell_type": "code",
   "execution_count": 9,
   "metadata": {},
   "outputs": [
    {
     "name": "stdout",
     "output_type": "stream",
     "text": [
      "[(0, 0), (8, 0), (8, 5), (3, 5), (3, 2)]\n",
      "[(0, 0), (0, 7), (6, 7), (6, 3), (2, 3)]\n"
     ]
    }
   ],
   "source": [
    "print(coord_t1)\n",
    "print(coord_t2)"
   ]
  },
  {
   "cell_type": "markdown",
   "metadata": {},
   "source": [
    "Find nodes at which wires intersect "
   ]
  },
  {
   "cell_type": "code",
   "execution_count": 10,
   "metadata": {},
   "outputs": [
    {
     "data": {
      "text/plain": [
       "[(array([0], dtype=int64),),\n",
       " (array([], dtype=int64),),\n",
       " (array([], dtype=int64),),\n",
       " (array([], dtype=int64),),\n",
       " (array([], dtype=int64),)]"
      ]
     },
     "execution_count": 10,
     "metadata": {},
     "output_type": "execute_result"
    }
   ],
   "source": [
    "[np.where(a == b) for a, b in zip (coord_t1, coord_t2)]"
   ]
  },
  {
   "cell_type": "markdown",
   "metadata": {},
   "source": [
    "**That's a big fail above!!**"
   ]
  },
  {
   "cell_type": "markdown",
   "metadata": {},
   "source": [
    "#### Working solution"
   ]
  },
  {
   "cell_type": "markdown",
   "metadata": {},
   "source": [
    "With this approach we split each input into a direction and a distance and we move that distance a step at a time in the appropriate direction, to create accumulated coordinates: the wire path.\n",
    "\n",
    "Saving those coordinates as a set, then can to find intersections of the two sets (wire 1 and wire 2), and after that `scipy.spatial.distance.cdist` to get distances from origin [0,0] of each intersection and return the minimum distance."
   ]
  },
  {
   "cell_type": "code",
   "execution_count": 11,
   "metadata": {},
   "outputs": [],
   "source": [
    "def positions(t):\n",
    "    pos_set = set()\n",
    "    posx = 0\n",
    "    posy = 0\n",
    "    for el in t:\n",
    "        direction = el[0]\n",
    "        distance = int(el[1:])\n",
    "        for d in range(distance):\n",
    "            if direction == 'R':\n",
    "                posx += 1               \n",
    "            elif direction == 'L':\n",
    "                posx -= 1    \n",
    "            if direction == 'U':\n",
    "                posy += 1 \n",
    "            elif direction == 'D':\n",
    "                posy -= 1 \n",
    "            pos_set.add((posx, posy)) \n",
    "    return (pos_set)"
   ]
  },
  {
   "cell_type": "markdown",
   "metadata": {},
   "source": [
    "##### Test"
   ]
  },
  {
   "cell_type": "code",
   "execution_count": 12,
   "metadata": {},
   "outputs": [],
   "source": [
    "coordt1 = positions(t1)\n",
    "coordt2 = positions(t2)"
   ]
  },
  {
   "cell_type": "code",
   "execution_count": 13,
   "metadata": {},
   "outputs": [
    {
     "data": {
      "text/plain": [
       "set"
      ]
     },
     "execution_count": 13,
     "metadata": {},
     "output_type": "execute_result"
    }
   ],
   "source": [
    "type(coordt1)"
   ]
  },
  {
   "cell_type": "code",
   "execution_count": 14,
   "metadata": {},
   "outputs": [
    {
     "data": {
      "text/plain": [
       "array([[3, 3],\n",
       "       [6, 5]])"
      ]
     },
     "execution_count": 14,
     "metadata": {},
     "output_type": "execute_result"
    }
   ],
   "source": [
    "crossings_t = np.array(list(coordt1.intersection(coordt2)))\n",
    "crossings_t"
   ]
  },
  {
   "cell_type": "code",
   "execution_count": 15,
   "metadata": {},
   "outputs": [
    {
     "data": {
      "text/plain": [
       "6"
      ]
     },
     "execution_count": 15,
     "metadata": {},
     "output_type": "execute_result"
    }
   ],
   "source": [
    "from scipy.spatial.distance import cdist\n",
    "distance_t = int(min(cdist(crossings_t, [[0,0]], metric='cityblock')))\n",
    "distance_t"
   ]
  },
  {
   "cell_type": "markdown",
   "metadata": {},
   "source": [
    "##### Solution"
   ]
  },
  {
   "cell_type": "code",
   "execution_count": 16,
   "metadata": {},
   "outputs": [
    {
     "data": {
      "text/plain": [
       "1519"
      ]
     },
     "execution_count": 16,
     "metadata": {},
     "output_type": "execute_result"
    }
   ],
   "source": [
    "wire1 = data[0]\n",
    "wire2 = data[1]\n",
    "\n",
    "coord1 = positions(wire1)\n",
    "coord2 = positions(wire2)\n",
    "\n",
    "crossings = list(coord1.intersection(coord2))\n",
    "distance = int(min(cdist(np.array(crossings), [[0,0]], metric='cityblock')))\n",
    "distance"
   ]
  },
  {
   "cell_type": "markdown",
   "metadata": {},
   "source": [
    "### To do: move the if statements for directions outside of the for loop for efficiency?"
   ]
  },
  {
   "cell_type": "code",
   "execution_count": null,
   "metadata": {},
   "outputs": [],
   "source": []
  },
  {
   "cell_type": "markdown",
   "metadata": {},
   "source": [
    "### Part 2"
   ]
  },
  {
   "cell_type": "markdown",
   "metadata": {},
   "source": [
    "Function to calculate cumulative distance at each step in the wire path\n",
    "Then find index of first occurrence of each intersection along wires and use it to retrieve cum distances, then find shortest"
   ]
  },
  {
   "cell_type": "markdown",
   "metadata": {},
   "source": [
    "Experimenting ......"
   ]
  },
  {
   "cell_type": "code",
   "execution_count": 17,
   "metadata": {},
   "outputs": [],
   "source": [
    "def cum_path(t):\n",
    "    cum_path = []\n",
    "    for el in t:\n",
    "        distance = int(el[1:])\n",
    "        for d in range(distance):\n",
    "            cum_path.append(d)\n",
    "    return cum_path"
   ]
  },
  {
   "cell_type": "code",
   "execution_count": 18,
   "metadata": {},
   "outputs": [
    {
     "name": "stdout",
     "output_type": "stream",
     "text": [
      "[0, 1, 2, 3, 4, 5, 6, 7, 0, 1, 2, 3, 4, 0, 1, 2, 3, 4, 0, 1, 2] [ 0  1  3  6 10 15 21 28 28 29 31 34 38 38 39 41 44 48 48 49 51]\n"
     ]
    }
   ],
   "source": [
    "print(cum_path(t1), np.cumsum(cum_path(t1)))"
   ]
  },
  {
   "cell_type": "code",
   "execution_count": 19,
   "metadata": {},
   "outputs": [
    {
     "data": {
      "text/plain": [
       "(array([3, 4, 7, 8], dtype=int64), array([0, 0, 1, 1], dtype=int64))"
      ]
     },
     "execution_count": 19,
     "metadata": {},
     "output_type": "execute_result"
    }
   ],
   "source": [
    "idx = np.where([x == y for x in crossings_t for y in coord_t1])\n",
    "idx"
   ]
  },
  {
   "cell_type": "code",
   "execution_count": 20,
   "metadata": {},
   "outputs": [
    {
     "name": "stdout",
     "output_type": "stream",
     "text": [
      "[array([3, 3]), array([6, 5])]\n"
     ]
    }
   ],
   "source": [
    "ls = [x for x in crossings_t]\n",
    "print(ls) "
   ]
  },
  {
   "cell_type": "code",
   "execution_count": null,
   "metadata": {},
   "outputs": [],
   "source": []
  }
 ],
 "metadata": {
  "kernelspec": {
   "display_name": "Python [conda env:py36]",
   "language": "python",
   "name": "conda-env-py36-py"
  },
  "language_info": {
   "codemirror_mode": {
    "name": "ipython",
    "version": 3
   },
   "file_extension": ".py",
   "mimetype": "text/x-python",
   "name": "python",
   "nbconvert_exporter": "python",
   "pygments_lexer": "ipython3",
   "version": "3.6.8"
  }
 },
 "nbformat": 4,
 "nbformat_minor": 2
}
