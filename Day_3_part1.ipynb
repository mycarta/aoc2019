{
 "cells": [
  {
   "cell_type": "markdown",
   "metadata": {},
   "source": [
    "### Day 3"
   ]
  },
  {
   "cell_type": "markdown",
   "metadata": {},
   "source": [
    "Description of the puzzle [here](https://adventofcode.com/2019/day/3)"
   ]
  },
  {
   "cell_type": "markdown",
   "metadata": {},
   "source": [
    "### Preliminaries"
   ]
  },
  {
   "cell_type": "code",
   "execution_count": 1,
   "metadata": {},
   "outputs": [],
   "source": [
    "with open('day_3_input.txt', 'r') as f:\n",
    "    data=[line.split(',') for line in f.readlines()]"
   ]
  },
  {
   "cell_type": "markdown",
   "metadata": {},
   "source": [
    "### Part 1"
   ]
  },
  {
   "cell_type": "markdown",
   "metadata": {},
   "source": [
    "#### Part 1 test"
   ]
  },
  {
   "cell_type": "markdown",
   "metadata": {},
   "source": [
    "Test case"
   ]
  },
  {
   "cell_type": "code",
   "execution_count": 2,
   "metadata": {},
   "outputs": [],
   "source": [
    "t1 = ['R8','U5','L5','D3']"
   ]
  },
  {
   "cell_type": "code",
   "execution_count": 3,
   "metadata": {},
   "outputs": [],
   "source": [
    "t2 = ['U7','R6','D4','L4']"
   ]
  },
  {
   "cell_type": "markdown",
   "metadata": {},
   "source": [
    "Function to create vectors of wire moves"
   ]
  },
  {
   "cell_type": "markdown",
   "metadata": {},
   "source": [
    "**This is a good fail !**\n",
    "\n",
    "**AKA: a good example of having misinterpreted the brief, but still having learned something.**\n",
    "\n",
    "This was developed under the incorrect assumption that the task was to find intersections between wires only at node points in the paths, not at intermediate points along the paths."
   ]
  },
  {
   "cell_type": "code",
   "execution_count": 4,
   "metadata": {},
   "outputs": [],
   "source": [
    "def position_changes(t):\n",
    "    tdx = np.zeros(len(t), dtype=int)\n",
    "    tdy = np.zeros(len(t), dtype=int)\n",
    "    for i, el in enumerate(t):\n",
    "        if el[0] == 'R':\n",
    "            tdx[i] += (int(el[1::])) \n",
    "        elif el[0] == 'L':\n",
    "            tdx[i] -=  (int(el[1::]))        \n",
    "        if el[0] == 'U':\n",
    "            tdy[i] += (int(el[1::])) \n",
    "        elif el[0] == 'D':\n",
    "            tdy[i] -= (int(el[1::]))    \n",
    "    return list(zip(tdx, tdy))    "
   ]
  },
  {
   "cell_type": "markdown",
   "metadata": {},
   "source": [
    "Function to create vectors of wire node coordinates \n",
    "\n",
    "From: https://stackoverflow.com/a/16425408/1034648"
   ]
  },
  {
   "cell_type": "code",
   "execution_count": 5,
   "metadata": {},
   "outputs": [],
   "source": [
    "def accumulate_tuples(iterable):\n",
    "    accum_a = accum_b = 0\n",
    "    for a, b in iterable:\n",
    "        accum_a += a\n",
    "        accum_b += b\n",
    "        yield accum_a, accum_b"
   ]
  },
  {
   "cell_type": "code",
   "execution_count": 6,
   "metadata": {},
   "outputs": [
    {
     "ename": "NameError",
     "evalue": "name 'moves_t1' is not defined",
     "output_type": "error",
     "traceback": [
      "\u001b[0;31m---------------------------------------------------------------------------\u001b[0m",
      "\u001b[0;31mNameError\u001b[0m                                 Traceback (most recent call last)",
      "\u001b[0;32m<ipython-input-6-34a1dfa15aa6>\u001b[0m in \u001b[0;36m<module>\u001b[0;34m\u001b[0m\n\u001b[0;32m----> 1\u001b[0;31m \u001b[0mcoord_t1\u001b[0m \u001b[0;34m=\u001b[0m \u001b[0mlist\u001b[0m\u001b[0;34m(\u001b[0m\u001b[0maccumulate_tuples\u001b[0m\u001b[0;34m(\u001b[0m\u001b[0mmoves_t1\u001b[0m\u001b[0;34m)\u001b[0m\u001b[0;34m)\u001b[0m\u001b[0;34m\u001b[0m\u001b[0;34m\u001b[0m\u001b[0m\n\u001b[0m\u001b[1;32m      2\u001b[0m \u001b[0mcoord_t2\u001b[0m \u001b[0;34m=\u001b[0m \u001b[0mlist\u001b[0m\u001b[0;34m(\u001b[0m\u001b[0maccumulate_tuples\u001b[0m\u001b[0;34m(\u001b[0m\u001b[0mmoves_t2\u001b[0m\u001b[0;34m)\u001b[0m\u001b[0;34m)\u001b[0m\u001b[0;34m\u001b[0m\u001b[0;34m\u001b[0m\u001b[0m\n\u001b[1;32m      3\u001b[0m \u001b[0;34m\u001b[0m\u001b[0m\n\u001b[1;32m      4\u001b[0m \u001b[0mcoord_t1\u001b[0m\u001b[0;34m.\u001b[0m\u001b[0minsert\u001b[0m\u001b[0;34m(\u001b[0m\u001b[0;36m0\u001b[0m\u001b[0;34m,\u001b[0m \u001b[0;34m(\u001b[0m\u001b[0;36m0\u001b[0m\u001b[0;34m,\u001b[0m \u001b[0;36m0\u001b[0m\u001b[0;34m)\u001b[0m\u001b[0;34m)\u001b[0m\u001b[0;34m\u001b[0m\u001b[0;34m\u001b[0m\u001b[0m\n\u001b[1;32m      5\u001b[0m \u001b[0mcoord_t2\u001b[0m\u001b[0;34m.\u001b[0m\u001b[0minsert\u001b[0m\u001b[0;34m(\u001b[0m\u001b[0;36m0\u001b[0m\u001b[0;34m,\u001b[0m \u001b[0;34m(\u001b[0m\u001b[0;36m0\u001b[0m\u001b[0;34m,\u001b[0m \u001b[0;36m0\u001b[0m\u001b[0;34m)\u001b[0m\u001b[0;34m)\u001b[0m\u001b[0;34m\u001b[0m\u001b[0;34m\u001b[0m\u001b[0m\n",
      "\u001b[0;31mNameError\u001b[0m: name 'moves_t1' is not defined"
     ]
    }
   ],
   "source": [
    "coord_t1 = list(accumulate_tuples(moves_t1))\n",
    "coord_t2 = list(accumulate_tuples(moves_t2))\n",
    "\n",
    "coord_t1.insert(0, (0, 0))\n",
    "coord_t2.insert(0, (0, 0))"
   ]
  },
  {
   "cell_type": "code",
   "execution_count": null,
   "metadata": {},
   "outputs": [],
   "source": [
    "print(coord_t1)\n",
    "print(coord_t2)"
   ]
  },
  {
   "cell_type": "markdown",
   "metadata": {},
   "source": [
    "Find nodes at which wires intersect "
   ]
  },
  {
   "cell_type": "code",
   "execution_count": null,
   "metadata": {},
   "outputs": [],
   "source": [
    "[np.where(a == b) for a, b in zip (coord_t1, coord_t2)]"
   ]
  },
  {
   "cell_type": "markdown",
   "metadata": {},
   "source": [
    "**That's a big fail above!!**"
   ]
  },
  {
   "cell_type": "markdown",
   "metadata": {},
   "source": [
    "#### Part 2 solution"
   ]
  },
  {
   "cell_type": "markdown",
   "metadata": {},
   "source": [
    "With this approach we similarly split each input into a direction and a number but now we turn it directly into a distance and we move that distance a square at a time, to create coordinates"
   ]
  },
  {
   "cell_type": "code",
   "execution_count": null,
   "metadata": {},
   "outputs": [],
   "source": [
    "def positions(t):\n",
    "    pos_list = []\n",
    "    posx = 0\n",
    "    posy = 0\n",
    "    for el in t:\n",
    "        direction = el[0]\n",
    "        distance = int(el[1:])\n",
    "        for d in range(distance):\n",
    "            if direction == 'R':\n",
    "                posx += 1               \n",
    "            elif direction == 'L':\n",
    "                posx -= 1    \n",
    "            if direction == 'U':\n",
    "                posy += 1 \n",
    "            elif direction == 'D':\n",
    "                posy -= 1 \n",
    "            pos_list.append((posx, posy)) \n",
    "    return pos_list"
   ]
  },
  {
   "cell_type": "code",
   "execution_count": null,
   "metadata": {},
   "outputs": [],
   "source": [
    "coords_t1 = positions(t1)\n",
    "coords_t2 = positions(t2)"
   ]
  },
  {
   "cell_type": "code",
   "execution_count": null,
   "metadata": {},
   "outputs": [],
   "source": [
    "coords_t1b"
   ]
  },
  {
   "cell_type": "markdown",
   "metadata": {},
   "source": [
    "This works.\n",
    "Now you have to find the intersections.\n",
    "For that I should turn the output of the above into a set, because sets come with intersection\n",
    "\n",
    "Then usce `scipy.spatial.distance.cdist` for distances\n",
    "\n",
    "Also, move the if statements for directions outside of the for loop for efficiency"
   ]
  },
  {
   "cell_type": "code",
   "execution_count": null,
   "metadata": {},
   "outputs": [],
   "source": []
  }
 ],
 "metadata": {
  "kernelspec": {
   "display_name": "py36",
   "language": "python",
   "name": "conda-env-py36-py"
  },
  "language_info": {
   "codemirror_mode": {
    "name": "ipython",
    "version": 3
   },
   "file_extension": ".py",
   "mimetype": "text/x-python",
   "name": "python",
   "nbconvert_exporter": "python",
   "pygments_lexer": "ipython3",
   "version": "3.6.8"
  }
 },
 "nbformat": 4,
 "nbformat_minor": 2
}
